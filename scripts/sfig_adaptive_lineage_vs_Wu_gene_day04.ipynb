{
 "cells": [
  {
   "cell_type": "code",
   "execution_count": 10,
   "metadata": {
    "collapsed": true
   },
   "outputs": [],
   "source": [
    "\n",
    "import sys\n",
    "sys.path.append('../')\n",
    "\n",
    "import sys; sys.path.insert(0, '../../') ## make sure path to root of project directory\n",
    "from wu_barcodes.config import *\n",
    "from data.wu_data import *\n",
    "\n",
    "import matplotlib as mpl\n",
    "# mpl formatting\n",
    "import matplotlib.pyplot as plt\n",
    "mpl.rcParams.update(mpl_configs)\n",
    "import methods.ax_methods as ax_methods\n",
    "import numpy as np; rnd = np.random.default_rng()\n",
    "import scipy.stats"
   ]
  },
  {
   "cell_type": "code",
   "execution_count": 11,
   "outputs": [],
   "source": [
    "import methods.filter_lineages as fl\n",
    "\n",
    "\n",
    "import scipy.ndimage.filters as ndif\n",
    "def running_mean_uniform_filter1d(x, N):\n",
    "    return ndif.uniform_filter1d(x, N, mode='reflect', origin=0)\n",
    "\n",
    "def calc_coarse_grained_lfc_array(freqs0, D0, freqs1, D1, dt, coarse_grain=100):\n",
    "    cg_freqs0 = running_mean_uniform_filter1d(freqs0, coarse_grain)\n",
    "    cg_freqs1 = running_mean_uniform_filter1d(freqs1, coarse_grain)\n",
    "\n",
    "    cg_f0, cg_f1 = fl.maxmin_freqs(cg_freqs0, D0, cg_freqs1, D1)\n",
    "\n",
    "    return fl.calc_lfc_array(cg_f0, cg_f1, dt)\n",
    "\n",
    "def calc_wu_gene_freq_array(bac, diet, mice, t1=4, split_day=1): #assume t0 = 0\n",
    "    t0_freqs = []\n",
    "    t1_freqs = []\n",
    "\n",
    "    t0_reads = fl.bac_input_arrays[bac][(split_day % 2)::2].sum(axis=0)\n",
    "    t1_reads = fl.bac_read_arrays[bac][ [fl.bac_row_ids[bac][(mouse, t1)] for mouse in mice] ].sum(axis=0)\n",
    "\n",
    "    print(bac, diet, len(fl.wu_genes[bac][diet]['del']))\n",
    "    for gene in fl.wu_genes[bac][diet]['del']:\n",
    "        gene_barcode_indices = fl.bac_gene_meta_dict[bac][gene]['indices']\n",
    "        if np.any(gene_barcode_indices):\n",
    "            t0_freqs_g = t0_reads[gene_barcode_indices].sum() / t0_reads.sum()\n",
    "            t0_freqs.append(t0_freqs_g)\n",
    "\n",
    "            t1_freqs_g = t1_reads[gene_barcode_indices].sum() / t1_reads.sum()\n",
    "            t1_freqs.append( t1_freqs_g )\n",
    "\n",
    "    return  np.array(t0_freqs), np.array(t1_freqs)\n",
    "\n",
    "def calc_wu_gene_read_array(bac, diet, mice, t1=4, split_day=1): #assume t0 = 0\n",
    "    t0_freqs = []\n",
    "    t1_freqs = []\n",
    "\n",
    "    t0_reads = fl.bac_input_arrays[bac][(split_day % 2)::2].sum(axis=0)\n",
    "    t1_reads = fl.bac_read_arrays[bac][ [fl.bac_row_ids[bac][(mouse, t1)] for mouse in mice] ].sum(axis=0)\n",
    "\n",
    "    for gene in wu_genes[bac][diet]:\n",
    "        gene_barcode_indices = fl.bac_gene_meta_dict[bac][gene]['indices']\n",
    "        if np.any(gene_barcode_indices):\n",
    "            t0_freqs_g = t0_reads[gene_barcode_indices].sum()\n",
    "            t0_freqs.append(t0_freqs_g)\n",
    "\n",
    "            t1_freqs_g = t1_reads[gene_barcode_indices].sum()\n",
    "            t1_freqs.append( t1_freqs_g )\n",
    "\n",
    "    return  np.array(t0_freqs), np.array(t1_freqs)\n",
    "\n",
    "# def calc_wu_gene_freq_array(bac, diet, mice, t1=4, split_day=1): #assume t0 = 0\n",
    "#     t0_freqs = []\n",
    "#     t1_freqs = []\n",
    "#\n",
    "#     t0_reads = fl.bac_input_arrays[bac][(split_day % 2)::2].sum(axis=0)\n",
    "#     t1_reads = fl.bac_read_arrays[bac][ [fl.bac_row_ids[bac][(mouse, t1)] for mouse in mice] ].sum(axis=0)\n",
    "#\n",
    "#     for gene in fl.bac_gene_meta_dict[bac].keys():\n",
    "#         gene_barcode_indices = fl.bac_gene_meta_dict[bac][gene]['indices']\n",
    "#         if np.any(gene_barcode_indices):\n",
    "#             t0_freqs_g = t0_reads[gene_barcode_indices].sum() / t0_reads.sum()\n",
    "#             t0_freqs.append(t0_freqs_g)\n",
    "#\n",
    "#             t1_freqs_g = t1_reads[gene_barcode_indices].sum() / t1_reads.sum()\n",
    "#             t1_freqs.append( t1_freqs_g )\n",
    "#\n",
    "#     return  np.array(t0_freqs), np.array(t1_freqs)\n",
    "\n",
    "def calc_wu_lineage_freq_array(bac, diet, mice, t1=4): #assume t0 = 0\n",
    "    t0_freqs = []\n",
    "    t1_freqs = [[] for mouse in mice]\n",
    "    for gene in wu_genes[bac][diet]:\n",
    "        gene_barcode_indices = gene_barcode_dict[bac][gene][0]\n",
    "        if np.any(gene_barcode_indices):\n",
    "            t0_freqs.extend( freq_dict[bac]['all'][-1][gene_barcode_indices] )\n",
    "            for m, mouse in enumerate(mice):\n",
    "                t1_freqs[m].extend(freq_dict[bac]['all'][ MX[(mouse, t1)] ][gene_barcode_indices] )\n",
    "    return  np.tile(t0_freqs, (len(mice), 1)), np.array(t1_freqs)"
   ],
   "metadata": {
    "collapsed": false,
    "pycharm": {
     "name": "#%%\n"
    }
   }
  },
  {
   "cell_type": "code",
   "execution_count": 12,
   "outputs": [
    {
     "name": "stdout",
     "output_type": "stream",
     "text": [
      "BWH2 HF 875\n"
     ]
    },
    {
     "name": "stderr",
     "output_type": "stream",
     "text": [
      "/Users/daniel/Documents/GoodLab/wu_barcodes_clean/jupyter/biorxiv_plot_scripts/../../methods/filter_lineages.py:282: RuntimeWarning: divide by zero encountered in log\n",
      "  return np.log( freqs1/freqs0 ) / dt\n"
     ]
    },
    {
     "name": "stdout",
     "output_type": "stream",
     "text": [
      "BWH2 LF 359\n",
      "Bovatus HF 835\n"
     ]
    },
    {
     "name": "stderr",
     "output_type": "stream",
     "text": [
      "/Users/daniel/Documents/GoodLab/wu_barcodes_clean/jupyter/biorxiv_plot_scripts/../../methods/filter_lineages.py:282: RuntimeWarning: divide by zero encountered in log\n",
      "  return np.log( freqs1/freqs0 ) / dt\n",
      "/Users/daniel/Documents/GoodLab/wu_barcodes_clean/jupyter/biorxiv_plot_scripts/../../methods/filter_lineages.py:282: RuntimeWarning: divide by zero encountered in log\n",
      "  return np.log( freqs1/freqs0 ) / dt\n"
     ]
    },
    {
     "name": "stdout",
     "output_type": "stream",
     "text": [
      "Bovatus LF 660\n",
      "BtVPI HF 587\n"
     ]
    },
    {
     "name": "stderr",
     "output_type": "stream",
     "text": [
      "/Users/daniel/Documents/GoodLab/wu_barcodes_clean/jupyter/biorxiv_plot_scripts/../../methods/filter_lineages.py:282: RuntimeWarning: divide by zero encountered in log\n",
      "  return np.log( freqs1/freqs0 ) / dt\n",
      "/Users/daniel/Documents/GoodLab/wu_barcodes_clean/jupyter/biorxiv_plot_scripts/../../methods/filter_lineages.py:282: RuntimeWarning: divide by zero encountered in log\n",
      "  return np.log( freqs1/freqs0 ) / dt\n"
     ]
    },
    {
     "name": "stdout",
     "output_type": "stream",
     "text": [
      "BtVPI LF 293\n",
      "Bt7330 HF 1539\n"
     ]
    },
    {
     "name": "stderr",
     "output_type": "stream",
     "text": [
      "/Users/daniel/Documents/GoodLab/wu_barcodes_clean/jupyter/biorxiv_plot_scripts/../../methods/filter_lineages.py:282: RuntimeWarning: divide by zero encountered in log\n",
      "  return np.log( freqs1/freqs0 ) / dt\n",
      "/Users/daniel/Documents/GoodLab/wu_barcodes_clean/jupyter/biorxiv_plot_scripts/../../methods/filter_lineages.py:282: RuntimeWarning: divide by zero encountered in log\n",
      "  return np.log( freqs1/freqs0 ) / dt\n",
      "/Users/daniel/Documents/GoodLab/wu_barcodes_clean/jupyter/biorxiv_plot_scripts/../../methods/filter_lineages.py:282: RuntimeWarning: divide by zero encountered in log\n",
      "  return np.log( freqs1/freqs0 ) / dt\n"
     ]
    },
    {
     "name": "stdout",
     "output_type": "stream",
     "text": [
      "Bt7330 LF 1161\n"
     ]
    },
    {
     "data": {
      "text/plain": "<Figure size 288x396 with 5 Axes>",
      "image/png": "[encoded data removed]"
     },
     "metadata": {},
     "output_type": "display_data"
    }
   ],
   "source": [
    "fig = plt.figure(figsize=(4, 5.5))\n",
    "outer = mpl.gridspec.GridSpec(nrows=4, ncols=1, figure=fig)\n",
    "outer_ax = fig.add_subplot(outer[:])\n",
    "outer_ax.set_xlabel('Relative fitness (days$^{-1}$), days 0-4', labelpad=5, fontsize=8)\n",
    "outer_ax.set_ylabel('Fraction of lineages', labelpad=-2, fontsize=8)\n",
    "ax_methods.turn_off_ax(outer_ax)\n",
    "\n",
    "diet = 'HF'\n",
    "# discovery_mice = [6, 7, 8, 9, 10]\n",
    "# validation_mice = [1, 2, 3, 5]\n",
    "\n",
    "discovery_mice = [6, 7, 8, 9, 10]\n",
    "validation_mice = [1, 2, 3, 5]\n",
    "\n",
    "cutoff = 10**-6.5\n",
    "min_reads = 5\n",
    "discovery_d0 = 0\n",
    "validation_d0 = 0\n",
    "discovery_d1 = 4\n",
    "validation_d1 = 4\n",
    "discovery_dt = discovery_d1 - discovery_d0\n",
    "validation_dt = validation_d1 - validation_d0\n",
    "cg = 100\n",
    "\n",
    "bac_nfit = {'BWH2':10000, 'BtVPI':5000, 'Bovatus':5000, 'Bt7330':3000}\n",
    "for b, bac in enumerate(bacteria):\n",
    "    ax = fig.add_subplot(outer[b])\n",
    "    for (diet, discovery_mice, validation_mice) in [('HF', [6,7,8,9,10], [1, 2, 3, 5]), ('LF', [11, 12, 13, 15], [16, 18, 19])]:\n",
    "\n",
    "        wu_t0_discovery, wu_t1_discovery = calc_wu_gene_freq_array(bac, diet, validation_mice, t1=4, split_day=1)\n",
    "        wu_discovery_lfcs = fl.calc_lfc_array( wu_t0_discovery, wu_t1_discovery, 4)\n",
    "        # wu_sorted_indices = np.argsort(wu_discovery_lfcs)\n",
    "        #\n",
    "        # wu_t0_validate, wu_t1_validate = calc_wu_gene_freq_array(bac, diet, validation_mice, t1=validation_d1, split_day=2)\n",
    "        # wu_validate_lfcs = fl.calc_lfc_array( wu_t0_validate, wu_t1_validate, validation_d1)\n",
    "\n",
    "        if 'generate discovery and validation frequencies':\n",
    "            discovery_reads0, discovery_reads1 = np.copy(fl.get_read_arrays(bac, discovery_mice, discovery_d0, discovery_d1, split_day0=2))\n",
    "            validation_reads0, validation_reads1 = np.copy(fl.get_read_arrays(bac, validation_mice, validation_d0, validation_d1, split_day0=1))\n",
    "            # discovery_reads0 -= fl.bac_input_arrays[bac][6][fl.bac_nonwu_indices[bac]]\n",
    "\n",
    "            discovery_D0, discovery_D1 = discovery_reads0.sum(), discovery_reads1.sum()\n",
    "            discovery_freqs0, discovery_freqs1 = discovery_reads0 / discovery_D0, discovery_reads1 / discovery_D1\n",
    "\n",
    "            validation_D0, validation_D1 = validation_reads0.sum(), validation_reads1.sum()\n",
    "            validation_freqs0, validation_freqs1 = validation_reads0 /validation_D0, validation_reads1 /validation_D1\n",
    "\n",
    "            d0_reads = fl.bac_read_arrays[bac][0][fl.bac_nonwu_indices[bac]]\n",
    "            d0_freqs = d0_reads / d0_reads.sum()\n",
    "            d1_reads = (discovery_reads1 + validation_reads1)\n",
    "\n",
    "            max_freqs = np.max([discovery_freqs0, discovery_freqs1], axis=0)\n",
    "            d_valid = fl.filter_lineages(discovery_reads0, discovery_reads1, min_reads=min_reads, threshold=max_freqs)\n",
    "            v_valid = fl.filter_lineages(validation_reads0, validation_reads1, min_reads=min_reads, threshold=max_freqs)\n",
    "\n",
    "            filtered_bool =  (d0_freqs > cutoff) * v_valid #* d_valid\n",
    "            lineage_indices = rnd.permutation( np.arange(d0_freqs.shape[-1])[filtered_bool] )\n",
    "\n",
    "            d_f0, d_f1 = fl.maxmin_freqs(discovery_freqs0, discovery_D0, discovery_freqs1, discovery_D1)\n",
    "            v_f0, v_f1 = fl.maxmin_freqs(validation_freqs0, validation_D0, validation_freqs1, validation_D1)\n",
    "\n",
    "        if 'generate sorted fitnesses':\n",
    "            n_fit = len(lineage_indices)\n",
    "            fit_indices, sorted_fitnesses = fl.rank_barcodes(d_f0[lineage_indices], d_f1[lineage_indices], discovery_dt)\n",
    "            fit_indices = lineage_indices[fit_indices]\n",
    "\n",
    "            # n_fit = filtered_bool.sum()\n",
    "            v_f0_fit, v_f1_fit = v_f0[fit_indices][:n_fit], v_f1[fit_indices][:n_fit]\n",
    "            d_freqs0_fit, d_freqs1_fit = discovery_freqs0[fit_indices][:n_fit], discovery_freqs1[fit_indices][:n_fit]\n",
    "            v_freqs0_fit, v_freqs1_fit = validation_freqs0[fit_indices][:n_fit], validation_freqs1[fit_indices][:n_fit]\n",
    "            validation_lfcs = fl.calc_lfc_array(v_f0_fit, v_f1_fit, validation_dt)\n",
    "\n",
    "            cg_validate_lfcs = calc_coarse_grained_lfc_array(v_freqs0_fit, validation_D0, v_freqs1_fit, validation_D1,\n",
    "                                                             validation_dt, coarse_grain=cg)\n",
    "\n",
    "        cg_subset = cg_validate_lfcs[cg//2:bac_nfit[bac]]\n",
    "        wu_kernel = scipy.stats.gaussian_kde(wu_discovery_lfcs[~wu_discovery_lfcs.mask], bw_method=0.2)\n",
    "        lineage_kernel = scipy.stats.gaussian_kde(cg_subset[~cg_subset.mask], bw_method=0.2)\n",
    "        dx = 0.025\n",
    "        if bac == 'Bt7330':\n",
    "            x = np.arange(-1.0, 1.5, dx)\n",
    "        else:\n",
    "            x = np.arange(-1.0, 1.2, dx )\n",
    "        x_avg = (x[1:]+x[:-1])/2\n",
    "        ax.plot(x_avg, wu_kernel(x_avg), color=DIET_COLORS[diet], linestyle='dashed')\n",
    "        ax.plot(x_avg, lineage_kernel(x_avg), color=DIET_COLORS[diet])\n",
    "        # ax.plot(wu_discovery_lfcs[wu_sorted_indices])\n",
    "        # ax.scatter(np.arange(wu_validate_lfcs.shapee[-1]), wu_validate_lfcs[wu_sorted_indices],\n",
    "        #            s=3, color='violet', label='Wu genes', alpha=0.7, facecolor='none')\n",
    "\n",
    "    ax.set_yticks([])\n",
    "    ax.text(0.99, 0.85, BAC_FORMAL_NAMES[bac],\n",
    "            transform=ax.transAxes, fontsize=8, horizontalalignment='right')\n",
    "    if bac == 'BWH2':\n",
    "        legend_markers = [ax_methods.make_marker_obj(linestyle='solid', color=DIET_COLORS['HF']),\n",
    "                          ax_methods.make_marker_obj(linestyle='dashed', color=DIET_COLORS['HF']),\n",
    "                          ax_methods.make_marker_obj(linestyle='solid', color=DIET_COLORS['LF']),\n",
    "                          ax_methods.make_marker_obj(linestyle='dashed', color=DIET_COLORS['LF'])]\n",
    "        ax.legend(legend_markers, ['HF ben. lineage','HF del. gene k.o.','LF ben. lineage', 'LF del. gene k.o.'], loc=2)\n",
    "\n",
    "#\n",
    "#     barcode_indices, sorted_indices, num_barcodes, day0_test = fl.rank_barcodes(bac, 'HL', discovery_mice, 0, discovery_t1, validation_mouse, 4, 4)\n",
    "#\n",
    "#\n",
    "#     bac_cg_map = {'BWH2':12, 'Bovatus': 14, 'BtVPI':14, 'Bt7330':6}\n",
    "#     # lineage_t0_freqs = freq_dict[bac]['HL'][-1][sorted_indices[:10000]]\n",
    "#     cg = bac_cg_map[bac]\n",
    "#     # lineage_t0_freqs = day0_test[sorted_indices[:cg*wu_validate_lfcs.shape[-1]]]\n",
    "#     lineage_t0_freqs = freq_dict[bac]['HL'][-1][sorted_indices[:cg*wu_validate_lfcs.shape[-1]]]\n",
    "#     lineage_t1_freqs = freq_dict[bac]['HL'][MX[(validation_mouse, validation_t1)]][sorted_indices[:cg*wu_validate_lfcs.shape[-1]]]\n",
    "#     lineage_lfcs = calc_coarse_grained_lfc_array(lineage_t0_freqs, lineage_t1_freqs, validation_t1, coarse_grain=cg, pseudofreqs=(0, 0))\n",
    "#     ax.plot(lineage_lfcs[cg//2::cg], color='blue', label='$\\it{de~novo}$\\nadaptive lineages', alpha=0.7)\n",
    "#     ax.legend(loc=1)\n",
    "#     ax.axhline(0, color='black', linestyle='dashed', zorder=0)\n",
    "#     ax.set_xlim(0, wu_validate_lfcs.shape[-1])\n",
    "#     ax.set_ylim(-0.75, 1.75)\n",
    "#     ax.text(0.2, 0.8, bac_formal_names[bac], transform=ax.transAxes)\n",
    "#\n",
    "#     print(lineage_t0_freqs[:cg*wu_validate_lfcs.shape[-1]].sum(), wu_t0_validate.sum())\n",
    "#     print(num_wu_lineages, cg*wu_validate_lfcs.shape[-1])\n",
    "#\n",
    "fig.savefig(f'{biorxiv}/SI_wu_vs_adaptive_lineages_04.pdf')\n"
   ],
   "metadata": {
    "collapsed": false,
    "pycharm": {
     "name": "#%%\n"
    }
   }
  },
  {
   "cell_type": "code",
   "execution_count": null,
   "outputs": [],
   "source": [],
   "metadata": {
    "collapsed": false,
    "pycharm": {
     "name": "#%%\n"
    }
   }
  }
 ],
 "metadata": {
  "kernelspec": {
   "display_name": "Python 3",
   "language": "python",
   "name": "python3"
  },
  "language_info": {
   "codemirror_mode": {
    "name": "ipython",
    "version": 2
   },
   "file_extension": ".py",
   "mimetype": "text/x-python",
   "name": "python",
   "nbconvert_exporter": "python",
   "pygments_lexer": "ipython2",
   "version": "2.7.6"
  }
 },
 "nbformat": 4,
 "nbformat_minor": 0
}